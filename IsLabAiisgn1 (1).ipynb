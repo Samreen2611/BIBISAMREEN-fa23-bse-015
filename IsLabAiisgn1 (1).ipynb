{
  "nbformat": 4,
  "nbformat_minor": 0,
  "metadata": {
    "colab": {
      "provenance": []
    },
    "kernelspec": {
      "name": "python3",
      "display_name": "Python 3"
    },
    "language_info": {
      "name": "python"
    }
  },
  "cells": [
    {
      "cell_type": "code",
      "execution_count": null,
      "metadata": {
        "colab": {
          "base_uri": "https://localhost:8080/"
        },
        "id": "C8RlrvZwZHJv",
        "outputId": "71c803f5-a528-4d40-a6a6-32b84bde7eda"
      },
      "outputs": [
        {
          "name": "stdout",
          "output_type": "stream",
          "text": [
            "Enter elements of first list (space-separated): 1 2 3 4\n"
          ]
        }
      ],
      "source": [
        "list1 = list(map(int, input(\"Enter elements of first list (space-separated): \").split()))\n",
        "list2 = list(map(int, input(\"Enter elements of second list (space-separated): \").split()))\n",
        "\n",
        "\n",
        "merged_list = list1 + list2\n",
        "\n",
        "\n",
        "sorted_list = sorted(merged_list)\n",
        "\n",
        "\n",
        "print(\"Sorted merged list:\", sorted_list)"
      ]
    },
    {
      "cell_type": "code",
      "source": [
        "list1 = list(map(int, input(\"Enter elements of first list (space-separated): \").split()))\n",
        "list2 = list(map(int, input(\"Enter elements of second list (space-separated): \").split()))\n",
        "\n",
        "\n",
        "merged_list = list1 + list2\n",
        "\n",
        "\n",
        "sorted_list = sorted(merged_list)\n",
        "\n",
        "\n",
        "smallest = sorted_list[0]\n",
        "largest = sorted_list[-1]\n",
        "\n",
        "\n",
        "print(\"Sorted merged list:\", sorted_list)\n",
        "print(\"Smallest element:\", smallest)\n",
        "print(\"Largest element:\", largest)"
      ],
      "metadata": {
        "id": "DdkH8WVUZU7U"
      },
      "execution_count": null,
      "outputs": []
    },
    {
      "cell_type": "code",
      "source": [
        "birthdays = {\n",
        "    \"Samreen\": \"03/14/2004\",\n",
        "    \"Hadia\": \"01/17/2004\",\n",
        "    \"Sawira\": \"12/10/2005\"\n",
        "}\n",
        "print(\"Welcome to the birthday dictionary. We know the birthdays of:\")\n",
        "for name in birthdays:\n",
        "    print(name)\n",
        "choice = input(\"\\nWho's birthday do you want to look up? \")\n",
        "if choice in birthdays:\n",
        "    print(f\"{choice}'s birthday is {birthdays[choice]}.\")\n",
        "else:\n",
        "    print(f\"Sorry, we don’t have {choice}'s birthday in the dictionary.\")"
      ],
      "metadata": {
        "id": "LElz_T7Ugqhz"
      },
      "execution_count": null,
      "outputs": []
    },
    {
      "cell_type": "code",
      "source": [
        "sample_dict = {\n",
        "    \"name\": \"samreen\",\n",
        "    \"age\": 20,\n",
        "    \"salary\": 8000,\n",
        "    \"city\": \"pakistan\"\n",
        "}\n",
        "\n",
        "keys = [\"name\", \"salary\"]\n",
        "\n",
        "new_dict = {k: sample_dict[k] for k in keys if k in sample_dict}\n",
        "\n",
        "print(new_dict)"
      ],
      "metadata": {
        "colab": {
          "base_uri": "https://localhost:8080/"
        },
        "id": "QQ_sygI9ZiDY",
        "outputId": "50a251e7-c7a2-4611-db5d-79f0351e065a"
      },
      "execution_count": null,
      "outputs": [
        {
          "output_type": "stream",
          "name": "stdout",
          "text": [
            "{'name': 'samreen', 'salary': 8000}\n"
          ]
        }
      ]
    }
  ]
}